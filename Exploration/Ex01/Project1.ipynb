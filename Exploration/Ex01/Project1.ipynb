{
 "cells": [
  {
   "cell_type": "code",
   "execution_count": 2,
   "id": "6dc3eaa8-5e17-4f14-b058-e8930016e864",
   "metadata": {},
   "outputs": [],
   "source": [
    "from sklearn.datasets import load_diabetes\n",
    "data = load_diabetes()\n",
    "df_X = data.data\n",
    "df_y = data.target"
   ]
  },
  {
   "cell_type": "code",
   "execution_count": 3,
   "id": "d96fd27e-3628-4818-a76f-f267a12ee4d1",
   "metadata": {},
   "outputs": [
    {
     "name": "stdout",
     "output_type": "stream",
     "text": [
      "<class 'numpy.ndarray'> float64\n"
     ]
    }
   ],
   "source": [
    "import numpy as np\n",
    "\n",
    "X = np.array(df_X)\n",
    "\n",
    "print(type(X), X.dtype)"
   ]
  },
  {
   "cell_type": "code",
   "execution_count": 4,
   "id": "4b69e6e4-80b8-44dc-87be-9a44ba2a611a",
   "metadata": {},
   "outputs": [
    {
     "name": "stdout",
     "output_type": "stream",
     "text": [
      "<class 'numpy.ndarray'> float64\n"
     ]
    }
   ],
   "source": [
    "y = np.array(df_y)\n",
    "\n",
    "print(type(y), y.dtype)"
   ]
  },
  {
   "cell_type": "code",
   "execution_count": 5,
   "id": "0d6cc772-c371-41d9-bee6-dca694a662e7",
   "metadata": {},
   "outputs": [
    {
     "name": "stdout",
     "output_type": "stream",
     "text": [
      "(353, 10) (353,)\n",
      "(89, 10) (89,)\n"
     ]
    }
   ],
   "source": [
    "from sklearn.model_selection import train_test_split\n",
    "X_train, X_test, y_train, y_test = train_test_split(\n",
    "    X, y, test_size=0.2, random_state=42\n",
    ")\n",
    "\n",
    "print(X_train.shape, y_train.shape)\n",
    "print(X_test.shape, y_test.shape)"
   ]
  },
  {
   "cell_type": "code",
   "execution_count": 6,
   "id": "3542b875-9030-474d-9960-20b5e7b40815",
   "metadata": {},
   "outputs": [
    {
     "name": "stdout",
     "output_type": "stream",
     "text": [
      "10\n"
     ]
    }
   ],
   "source": [
    "W = np.random.rand(X_train.shape[1])\n",
    "b = np.random.rand()\n",
    "\n",
    "print(len(W))"
   ]
  },
  {
   "cell_type": "code",
   "execution_count": 7,
   "id": "fdec10b9-23e7-4178-9d24-30f28b6543cf",
   "metadata": {},
   "outputs": [],
   "source": [
    "def model(X, W, b):\n",
    "    predictions = 0\n",
    "    for i in range(len(W)):\n",
    "        predictions += X[:, i] * W[i]\n",
    "    predictions += b\n",
    "    return predictions"
   ]
  },
  {
   "cell_type": "code",
   "execution_count": 8,
   "id": "049c5bf9-b5b6-42d5-bb69-af9bdd621aa5",
   "metadata": {},
   "outputs": [],
   "source": [
    "def MSE(a, b):\n",
    "    mse = ((a - b) ** 2).mean()  # 두 값의 차이의 제곱의 평균\n",
    "    return mse"
   ]
  },
  {
   "cell_type": "code",
   "execution_count": 9,
   "id": "54285e49-76fa-49eb-913b-0980cb0c14d9",
   "metadata": {},
   "outputs": [],
   "source": [
    "def loss(X, W, b, y):\n",
    "    predictions = model(X, W, b)\n",
    "    L = MSE(predictions, y)\n",
    "    return L"
   ]
  },
  {
   "cell_type": "code",
   "execution_count": 10,
   "id": "b0d6c432-c5d5-41b5-af1a-f04c8f567b7a",
   "metadata": {},
   "outputs": [],
   "source": [
    "def gradient(X, W, b, y):\n",
    "    N = len(y)\n",
    "\n",
    "    y_pred = model(X, W, b)\n",
    "\n",
    "    dW = 1/N * 2 * X.T.dot(y_pred - y)\n",
    "\n",
    "    db = 2 * (y_pred - y).mean()\n",
    "    return dW, db"
   ]
  },
  {
   "cell_type": "code",
   "execution_count": 16,
   "id": "a53f9275-4ce2-44e1-8a3e-42f15773e48c",
   "metadata": {},
   "outputs": [],
   "source": [
    "LEARNING_RATE = 0.01"
   ]
  },
  {
   "cell_type": "code",
   "execution_count": 20,
   "id": "1f01ac20-c07c-441e-85bc-be329a510013",
   "metadata": {},
   "outputs": [
    {
     "name": "stdout",
     "output_type": "stream",
     "text": [
      "Iteration 100 : Loss 2904.5367\n",
      "Iteration 200 : Loss 2904.4915\n",
      "Iteration 300 : Loss 2904.4466\n",
      "Iteration 400 : Loss 2904.4020\n",
      "Iteration 500 : Loss 2904.3577\n",
      "Iteration 600 : Loss 2904.3138\n",
      "Iteration 700 : Loss 2904.2701\n",
      "Iteration 800 : Loss 2904.2267\n",
      "Iteration 900 : Loss 2904.1837\n",
      "Iteration 1000 : Loss 2904.1410\n",
      "Iteration 1100 : Loss 2904.0985\n",
      "Iteration 1200 : Loss 2904.0564\n",
      "Iteration 1300 : Loss 2904.0145\n",
      "Iteration 1400 : Loss 2903.9729\n",
      "Iteration 1500 : Loss 2903.9316\n",
      "Iteration 1600 : Loss 2903.8907\n",
      "Iteration 1700 : Loss 2903.8499\n",
      "Iteration 1800 : Loss 2903.8095\n",
      "Iteration 1900 : Loss 2903.7694\n",
      "Iteration 2000 : Loss 2903.7295\n",
      "Iteration 2100 : Loss 2903.6899\n",
      "Iteration 2200 : Loss 2903.6506\n",
      "Iteration 2300 : Loss 2903.6115\n",
      "Iteration 2400 : Loss 2903.5728\n",
      "Iteration 2500 : Loss 2903.5342\n",
      "Iteration 2600 : Loss 2903.4960\n",
      "Iteration 2700 : Loss 2903.4580\n",
      "Iteration 2800 : Loss 2903.4203\n",
      "Iteration 2900 : Loss 2903.3828\n",
      "Iteration 3000 : Loss 2903.3456\n",
      "Iteration 3100 : Loss 2903.3086\n",
      "Iteration 3200 : Loss 2903.2719\n",
      "Iteration 3300 : Loss 2903.2355\n",
      "Iteration 3400 : Loss 2903.1992\n",
      "Iteration 3500 : Loss 2903.1633\n",
      "Iteration 3600 : Loss 2903.1276\n",
      "Iteration 3700 : Loss 2903.0921\n",
      "Iteration 3800 : Loss 2903.0568\n",
      "Iteration 3900 : Loss 2903.0218\n",
      "Iteration 4000 : Loss 2902.9871\n",
      "Iteration 4100 : Loss 2902.9525\n",
      "Iteration 4200 : Loss 2902.9182\n",
      "Iteration 4300 : Loss 2902.8842\n",
      "Iteration 4400 : Loss 2902.8503\n",
      "Iteration 4500 : Loss 2902.8167\n",
      "Iteration 4600 : Loss 2902.7833\n",
      "Iteration 4700 : Loss 2902.7502\n",
      "Iteration 4800 : Loss 2902.7172\n",
      "Iteration 4900 : Loss 2902.6845\n",
      "Iteration 5000 : Loss 2902.6520\n",
      "Iteration 5100 : Loss 2902.6197\n",
      "Iteration 5200 : Loss 2902.5877\n",
      "Iteration 5300 : Loss 2902.5558\n",
      "Iteration 5400 : Loss 2902.5241\n",
      "Iteration 5500 : Loss 2902.4927\n",
      "Iteration 5600 : Loss 2902.4615\n",
      "Iteration 5700 : Loss 2902.4305\n",
      "Iteration 5800 : Loss 2902.3996\n",
      "Iteration 5900 : Loss 2902.3690\n",
      "Iteration 6000 : Loss 2902.3386\n",
      "Iteration 6100 : Loss 2902.3084\n",
      "Iteration 6200 : Loss 2902.2784\n",
      "Iteration 6300 : Loss 2902.2486\n",
      "Iteration 6400 : Loss 2902.2190\n",
      "Iteration 6500 : Loss 2902.1895\n",
      "Iteration 6600 : Loss 2902.1603\n",
      "Iteration 6700 : Loss 2902.1313\n",
      "Iteration 6800 : Loss 2902.1024\n",
      "Iteration 6900 : Loss 2902.0738\n",
      "Iteration 7000 : Loss 2902.0453\n",
      "Iteration 7100 : Loss 2902.0170\n",
      "Iteration 7200 : Loss 2901.9889\n",
      "Iteration 7300 : Loss 2901.9609\n",
      "Iteration 7400 : Loss 2901.9332\n",
      "Iteration 7500 : Loss 2901.9056\n",
      "Iteration 7600 : Loss 2901.8782\n",
      "Iteration 7700 : Loss 2901.8510\n",
      "Iteration 7800 : Loss 2901.8240\n",
      "Iteration 7900 : Loss 2901.7971\n",
      "Iteration 8000 : Loss 2901.7704\n",
      "Iteration 8100 : Loss 2901.7439\n",
      "Iteration 8200 : Loss 2901.7176\n",
      "Iteration 8300 : Loss 2901.6914\n",
      "Iteration 8400 : Loss 2901.6654\n",
      "Iteration 8500 : Loss 2901.6395\n",
      "Iteration 8600 : Loss 2901.6139\n",
      "Iteration 8700 : Loss 2901.5883\n",
      "Iteration 8800 : Loss 2901.5630\n",
      "Iteration 8900 : Loss 2901.5378\n",
      "Iteration 9000 : Loss 2901.5128\n",
      "Iteration 9100 : Loss 2901.4879\n",
      "Iteration 9200 : Loss 2901.4632\n",
      "Iteration 9300 : Loss 2901.4386\n",
      "Iteration 9400 : Loss 2901.4142\n",
      "Iteration 9500 : Loss 2901.3900\n",
      "Iteration 9600 : Loss 2901.3659\n",
      "Iteration 9700 : Loss 2901.3419\n",
      "Iteration 9800 : Loss 2901.3181\n",
      "Iteration 9900 : Loss 2901.2945\n",
      "Iteration 10000 : Loss 2901.2710\n",
      "Iteration 10100 : Loss 2901.2476\n",
      "Iteration 10200 : Loss 2901.2244\n",
      "Iteration 10300 : Loss 2901.2013\n",
      "Iteration 10400 : Loss 2901.1784\n",
      "Iteration 10500 : Loss 2901.1556\n",
      "Iteration 10600 : Loss 2901.1330\n",
      "Iteration 10700 : Loss 2901.1105\n",
      "Iteration 10800 : Loss 2901.0881\n",
      "Iteration 10900 : Loss 2901.0659\n",
      "Iteration 11000 : Loss 2901.0438\n",
      "Iteration 11100 : Loss 2901.0219\n",
      "Iteration 11200 : Loss 2901.0001\n",
      "Iteration 11300 : Loss 2900.9784\n",
      "Iteration 11400 : Loss 2900.9569\n",
      "Iteration 11500 : Loss 2900.9355\n",
      "Iteration 11600 : Loss 2900.9142\n",
      "Iteration 11700 : Loss 2900.8930\n",
      "Iteration 11800 : Loss 2900.8720\n",
      "Iteration 11900 : Loss 2900.8511\n",
      "Iteration 12000 : Loss 2900.8303\n",
      "Iteration 12100 : Loss 2900.8097\n",
      "Iteration 12200 : Loss 2900.7892\n",
      "Iteration 12300 : Loss 2900.7688\n",
      "Iteration 12400 : Loss 2900.7485\n",
      "Iteration 12500 : Loss 2900.7284\n",
      "Iteration 12600 : Loss 2900.7084\n",
      "Iteration 12700 : Loss 2900.6885\n",
      "Iteration 12800 : Loss 2900.6687\n",
      "Iteration 12900 : Loss 2900.6490\n",
      "Iteration 13000 : Loss 2900.6295\n",
      "Iteration 13100 : Loss 2900.6100\n",
      "Iteration 13200 : Loss 2900.5907\n",
      "Iteration 13300 : Loss 2900.5715\n",
      "Iteration 13400 : Loss 2900.5525\n",
      "Iteration 13500 : Loss 2900.5335\n",
      "Iteration 13600 : Loss 2900.5146\n",
      "Iteration 13700 : Loss 2900.4959\n",
      "Iteration 13800 : Loss 2900.4773\n",
      "Iteration 13900 : Loss 2900.4587\n",
      "Iteration 14000 : Loss 2900.4403\n",
      "Iteration 14100 : Loss 2900.4220\n",
      "Iteration 14200 : Loss 2900.4038\n",
      "Iteration 14300 : Loss 2900.3857\n",
      "Iteration 14400 : Loss 2900.3677\n",
      "Iteration 14500 : Loss 2900.3499\n",
      "Iteration 14600 : Loss 2900.3321\n",
      "Iteration 14700 : Loss 2900.3144\n",
      "Iteration 14800 : Loss 2900.2969\n",
      "Iteration 14900 : Loss 2900.2794\n",
      "Iteration 15000 : Loss 2900.2620\n",
      "Iteration 15100 : Loss 2900.2448\n",
      "Iteration 15200 : Loss 2900.2276\n",
      "Iteration 15300 : Loss 2900.2106\n",
      "Iteration 15400 : Loss 2900.1936\n",
      "Iteration 15500 : Loss 2900.1767\n",
      "Iteration 15600 : Loss 2900.1600\n",
      "Iteration 15700 : Loss 2900.1433\n",
      "Iteration 15800 : Loss 2900.1267\n",
      "Iteration 15900 : Loss 2900.1102\n",
      "Iteration 16000 : Loss 2900.0938\n",
      "Iteration 16100 : Loss 2900.0776\n",
      "Iteration 16200 : Loss 2900.0614\n",
      "Iteration 16300 : Loss 2900.0453\n",
      "Iteration 16400 : Loss 2900.0292\n",
      "Iteration 16500 : Loss 2900.0133\n",
      "Iteration 16600 : Loss 2899.9975\n",
      "Iteration 16700 : Loss 2899.9817\n",
      "Iteration 16800 : Loss 2899.9661\n",
      "Iteration 16900 : Loss 2899.9505\n",
      "Iteration 17000 : Loss 2899.9350\n",
      "Iteration 17100 : Loss 2899.9196\n",
      "Iteration 17200 : Loss 2899.9043\n",
      "Iteration 17300 : Loss 2899.8891\n",
      "Iteration 17400 : Loss 2899.8740\n",
      "Iteration 17500 : Loss 2899.8589\n",
      "Iteration 17600 : Loss 2899.8440\n",
      "Iteration 17700 : Loss 2899.8291\n",
      "Iteration 17800 : Loss 2899.8143\n",
      "Iteration 17900 : Loss 2899.7996\n",
      "Iteration 18000 : Loss 2899.7849\n",
      "Iteration 18100 : Loss 2899.7704\n",
      "Iteration 18200 : Loss 2899.7559\n",
      "Iteration 18300 : Loss 2899.7415\n",
      "Iteration 18400 : Loss 2899.7272\n",
      "Iteration 18500 : Loss 2899.7130\n",
      "Iteration 18600 : Loss 2899.6988\n",
      "Iteration 18700 : Loss 2899.6847\n",
      "Iteration 18800 : Loss 2899.6707\n",
      "Iteration 18900 : Loss 2899.6568\n",
      "Iteration 19000 : Loss 2899.6430\n",
      "Iteration 19100 : Loss 2899.6292\n",
      "Iteration 19200 : Loss 2899.6155\n",
      "Iteration 19300 : Loss 2899.6019\n",
      "Iteration 19400 : Loss 2899.5883\n",
      "Iteration 19500 : Loss 2899.5748\n",
      "Iteration 19600 : Loss 2899.5614\n",
      "Iteration 19700 : Loss 2899.5481\n",
      "Iteration 19800 : Loss 2899.5348\n",
      "Iteration 19900 : Loss 2899.5216\n",
      "1.92 s ± 0 ns per loop (mean ± std. dev. of 1 run, 1 loop each)\n"
     ]
    }
   ],
   "source": [
    "%%timeit -n 1 -r 1\n",
    "global W, b\n",
    "\n",
    "losses = []\n",
    "\n",
    "for i in range(1, 20000):\n",
    "    dW, db = gradient(X_train, W, b, y_train)\n",
    "    W -= LEARNING_RATE * dW\n",
    "    b -= LEARNING_RATE * db\n",
    "    L = loss(X_train, W, b, y_train)\n",
    "    losses.append(L)\n",
    "    if i % 100 == 0:\n",
    "        print('Iteration %d : Loss %0.4f' % (i, L))"
   ]
  },
  {
   "cell_type": "code",
   "execution_count": 21,
   "id": "48802d54-a485-427b-b7a8-a56a24e88e64",
   "metadata": {},
   "outputs": [
    {
     "data": {
      "text/plain": [
       "np.float64(2877.3496924053907)"
      ]
     },
     "execution_count": 21,
     "metadata": {},
     "output_type": "execute_result"
    }
   ],
   "source": [
    "prediction = model(X_test, W, b)\n",
    "mse = loss(X_test, W, b, y_test)\n",
    "mse"
   ]
  },
  {
   "cell_type": "code",
   "execution_count": 22,
   "id": "aac01715-ee3d-4703-9c48-60bb1598729d",
   "metadata": {},
   "outputs": [
    {
     "data": {
      "image/png": "[encoded data removed]",
      "text/plain": [
       "<Figure size 640x480 with 1 Axes>"
      ]
     },
     "metadata": {},
     "output_type": "display_data"
    }
   ],
   "source": [
    "import matplotlib.pyplot as plt\n",
    "\n",
    "plt.scatter(X_test[:, 0], y_test)\n",
    "plt.scatter(X_test[:, 0], prediction)\n",
    "plt.show()"
   ]
  },
  {
   "cell_type": "code",
   "execution_count": null,
   "id": "0d6d2244-7102-4ede-8a87-443a95ff7545",
   "metadata": {},
   "outputs": [],
   "source": []
  }
 ],
 "metadata": {
  "kernelspec": {
   "display_name": "Python 3 (ipykernel)",
   "language": "python",
   "name": "python3"
  },
  "language_info": {
   "codemirror_mode": {
    "name": "ipython",
    "version": 3
   },
   "file_extension": ".py",
   "mimetype": "text/x-python",
   "name": "python",
   "nbconvert_exporter": "python",
   "pygments_lexer": "ipython3",
   "version": "3.12.11"
  }
 },
 "nbformat": 4,
 "nbformat_minor": 5
}
